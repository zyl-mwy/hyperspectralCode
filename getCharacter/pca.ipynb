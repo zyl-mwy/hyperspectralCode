{
 "cells": [
  {
   "cell_type": "code",
   "execution_count": 5,
   "metadata": {},
   "outputs": [
    {
     "name": "stdout",
     "output_type": "stream",
     "text": [
      "Using matplotlib backend: WXAgg\n",
      "%pylab is deprecated, use %matplotlib inline and import the required libraries.\n",
      "Populating the interactive namespace from numpy and matplotlib\n"
     ]
    },
    {
     "name": "stdout",
     "output_type": "stream",
     "text": [
      "\n",
      "Mouse Functions:\n",
      "----------------\n",
      "left-click & drag        ->   Rotate cube\n",
      "CTRL+left-click & drag   ->   Zoom in/out\n",
      "SHIFT+left-click & drag  ->  Pan\n",
      "\n",
      "Keybinds:\n",
      "---------\n",
      "l       -> toggle light\n",
      "t/g     -> stretch/compress z-dimension\n",
      "h       -> print help message\n",
      "q       -> close window\n",
      "\n"
     ]
    }
   ],
   "source": [
    "%pylab\n",
    "\n",
    "import matplotlib.pyplot as plt\n",
    "import spectral as spy\n",
    "import scipy\n",
    "import os \n",
    "from spectral import view_cube\n",
    "# pip install wxPython\n",
    "# pip install pyOpenGL\n",
    "# from pylab import *\n",
    "\n",
    "# spy.settings.WX_GL_DEPTH_SIZE = 16\n",
    "\n",
    "# PCA主成分分析\n",
    "def pca_dr(src):\n",
    "    pc = spy.principal_components(src)\n",
    "    # print(pc)\n",
    "    pc_98 = pc.reduce(fraction=0.9999)  # 保留98%的特征值\n",
    "    print(len(pc_98.eigenvalues))  # 剩下的特征值数量\n",
    "    # print(pc.cov.shape)\n",
    "    # spy.imshow(data=pc.cov, title=\"pc_cov\")\n",
    "    img_pc = pc_98.transform(src)  # 把数据转换到主成分空间\n",
    "    # print(img_pc.shape)\n",
    "    plt.imshow(src[:, :, :3])\n",
    "    plt.show()\n",
    "    plt.imshow(img_pc[:, :, :3])\n",
    "    plt.show()\n",
    "    # spy.imshow(img_pc[:, :, :3], stretch_all=True)  # 前三个主成分显示\n",
    "    return img_pc\n",
    "\n",
    "if __name__ == \"__main__\":\n",
    "    osPath = r'E:\\my_project\\hyperspectralData\\medician\\leaf\\drawRigion\\runs\\labelme2coco\\hyperspectralDataSplit'\n",
    "    hyperSpectalFile = spy.envi.open(os.path.join(osPath, '2023-10-12_009_0.hdr'), os.path.join(osPath, '2023-10-12_009_0.img')).read_bands([i for i in range(204)])\n",
    "    view_cube(hyperSpectalFile, bands=[54,34,20])\n",
    "    # pca_dr(hyperSpectalFile)"
   ]
  }
 ],
 "metadata": {
  "kernelspec": {
   "display_name": "hyperSpectralDataHandle",
   "language": "python",
   "name": "python3"
  },
  "language_info": {
   "codemirror_mode": {
    "name": "ipython",
    "version": 3
   },
   "file_extension": ".py",
   "mimetype": "text/x-python",
   "name": "python",
   "nbconvert_exporter": "python",
   "pygments_lexer": "ipython3",
   "version": "3.8.18"
  }
 },
 "nbformat": 4,
 "nbformat_minor": 2
}
