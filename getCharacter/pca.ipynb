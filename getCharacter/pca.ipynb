{
 "cells": [
  {
   "cell_type": "code",
   "execution_count": 2,
   "metadata": {},
   "outputs": [
    {
     "name": "stdout",
     "output_type": "stream",
     "text": [
      "Using matplotlib backend: QtAgg\n",
      "%pylab is deprecated, use %matplotlib inline and import the required libraries.\n",
      "Populating the interactive namespace from numpy and matplotlib\n"
     ]
    },
    {
     "name": "stderr",
     "output_type": "stream",
     "text": [
      "e:\\software\\anaconda_new\\envs\\hyperSpectralDataHandle\\lib\\site-packages\\IPython\\core\\magics\\pylab.py:162: UserWarning: pylab import has clobbered these variables: ['random', 'fft', 'power']\n",
      "`%matplotlib` prevents importing * from pylab and numpy\n",
      "  warn(\"pylab import has clobbered these variables: %s\"  % clobbered +\n"
     ]
    },
    {
     "ename": "AttributeError",
     "evalue": "'function' object has no attribute 'envi'",
     "output_type": "error",
     "traceback": [
      "\u001b[1;31m---------------------------------------------------------------------------\u001b[0m",
      "\u001b[1;31mAttributeError\u001b[0m                            Traceback (most recent call last)",
      "\u001b[1;32me:\\my_project\\hyperspectralData\\medician\\code\\getCharacter\\pca.ipynb Cell 1\u001b[0m line \u001b[0;36m3\n\u001b[0;32m     <a href='vscode-notebook-cell:/e%3A/my_project/hyperspectralData/medician/code/getCharacter/pca.ipynb#W0sZmlsZQ%3D%3D?line=35'>36</a>\u001b[0m \u001b[39mif\u001b[39;00m \u001b[39m__name__\u001b[39m \u001b[39m==\u001b[39m \u001b[39m\"\u001b[39m\u001b[39m__main__\u001b[39m\u001b[39m\"\u001b[39m:\n\u001b[0;32m     <a href='vscode-notebook-cell:/e%3A/my_project/hyperspectralData/medician/code/getCharacter/pca.ipynb#W0sZmlsZQ%3D%3D?line=36'>37</a>\u001b[0m     osPath \u001b[39m=\u001b[39m \u001b[39mr\u001b[39m\u001b[39m'\u001b[39m\u001b[39mE:\u001b[39m\u001b[39m\\\u001b[39m\u001b[39mmy_project\u001b[39m\u001b[39m\\\u001b[39m\u001b[39mhyperspectralData\u001b[39m\u001b[39m\\\u001b[39m\u001b[39mmedician\u001b[39m\u001b[39m\\\u001b[39m\u001b[39mleaf\u001b[39m\u001b[39m\\\u001b[39m\u001b[39mdrawRigion\u001b[39m\u001b[39m\\\u001b[39m\u001b[39mruns\u001b[39m\u001b[39m\\\u001b[39m\u001b[39mlabelme2coco\u001b[39m\u001b[39m\\\u001b[39m\u001b[39mhyperspectralDataSplit\u001b[39m\u001b[39m'\u001b[39m\n\u001b[1;32m---> <a href='vscode-notebook-cell:/e%3A/my_project/hyperspectralData/medician/code/getCharacter/pca.ipynb#W0sZmlsZQ%3D%3D?line=37'>38</a>\u001b[0m     hyperSpectalFile \u001b[39m=\u001b[39m spy\u001b[39m.\u001b[39;49menvi\u001b[39m.\u001b[39mopen(os\u001b[39m.\u001b[39mpath\u001b[39m.\u001b[39mjoin(osPath, \u001b[39m'\u001b[39m\u001b[39m2023-10-12_009_0.hdr\u001b[39m\u001b[39m'\u001b[39m), os\u001b[39m.\u001b[39mpath\u001b[39m.\u001b[39mjoin(osPath, \u001b[39m'\u001b[39m\u001b[39m2023-10-12_009_0.img\u001b[39m\u001b[39m'\u001b[39m))\u001b[39m.\u001b[39mread_bands([i \u001b[39mfor\u001b[39;00m i \u001b[39min\u001b[39;00m \u001b[39mrange\u001b[39m(\u001b[39m204\u001b[39m)])\n\u001b[0;32m     <a href='vscode-notebook-cell:/e%3A/my_project/hyperspectralData/medician/code/getCharacter/pca.ipynb#W0sZmlsZQ%3D%3D?line=38'>39</a>\u001b[0m     \u001b[39mprint\u001b[39m(hyperSpectalFile\u001b[39m.\u001b[39mshape)\n\u001b[0;32m     <a href='vscode-notebook-cell:/e%3A/my_project/hyperspectralData/medician/code/getCharacter/pca.ipynb#W0sZmlsZQ%3D%3D?line=39'>40</a>\u001b[0m     view_cube(hyperSpectalFile, bands\u001b[39m=\u001b[39m[\u001b[39m54\u001b[39m,\u001b[39m34\u001b[39m,\u001b[39m20\u001b[39m]) \u001b[39m# bands=[54,34,20]\u001b[39;00m\n",
      "\u001b[1;31mAttributeError\u001b[0m: 'function' object has no attribute 'envi'"
     ]
    }
   ],
   "source": [
    "%pylab\n",
    "# %matplotlib inline\n",
    "\n",
    "import matplotlib.pyplot as plt\n",
    "import spectral as spy\n",
    "import scipy\n",
    "import os \n",
    "from spectral import view_cube\n",
    "# pip install wxPython\n",
    "# pip install pyOpenGL\n",
    "# from pylab import *\n",
    "\n",
    "spy.settings.WX_GL_DEPTH_SIZE = 16\n",
    "\n",
    "# PCA主成分分析\n",
    "def pca_dr(src):\n",
    "    pc = spy.principal_components(src)\n",
    "    # print(pc)\n",
    "    pc_98 = pc.reduce(fraction=0.9999)  # 保留98%的特征值\n",
    "    print(len(pc_98.eigenvalues))  # 剩下的特征值数量\n",
    "    # print(pc.cov.shape)\n",
    "    # spy.imshow(data=pc.cov, title=\"pc_cov\")\n",
    "    img_pc = pc_98.transform(src)  # 把数据转换到主成分空间\n",
    "    # print(img_pc.shape)\n",
    "    # plt.imshow(src[:, :, :3])\n",
    "    # plt.show()\n",
    "    # plt.imshow(img_pc[:, :, :3])\n",
    "    # plt.show()\n",
    "    for i in range(img_pc.shape[2]):\n",
    "        plt.subplot(4, 5, i+1)\n",
    "        plt.imshow(src[:, :, :3])\n",
    "    plt.show()    \n",
    "    # spy.imshow(img_pc[:, :, :3], stretch_all=True)  # 前三个主成分显示\n",
    "    return img_pc\n",
    "\n",
    "if __name__ == \"__main__\":\n",
    "    osPath = r'E:\\my_project\\hyperspectralData\\medician\\leaf\\drawRigion\\runs\\labelme2coco\\hyperspectralDataSplit'\n",
    "    hyperSpectalFile = spy.envi.open(os.path.join(osPath, '2023-10-12_009_0.hdr'), os.path.join(osPath, '2023-10-12_009_0.img')).read_bands([i for i in range(204)])\n",
    "    print(hyperSpectalFile.shape)\n",
    "    view_cube(hyperSpectalFile, bands=[54,34,20]) # bands=[54,34,20]\n",
    "    pca_dr(hyperSpectalFile)"
   ]
  },
  {
   "cell_type": "code",
   "execution_count": null,
   "metadata": {},
   "outputs": [],
   "source": []
  },
  {
   "cell_type": "code",
   "execution_count": null,
   "metadata": {},
   "outputs": [],
   "source": []
  }
 ],
 "metadata": {
  "kernelspec": {
   "display_name": "Python 3 (ipykernel)",
   "language": "python",
   "name": "python3"
  },
  "language_info": {
   "codemirror_mode": {
    "name": "ipython",
    "version": 3
   },
   "file_extension": ".py",
   "mimetype": "text/x-python",
   "name": "python",
   "nbconvert_exporter": "python",
   "pygments_lexer": "ipython3",
   "version": "3.8.18"
  }
 },
 "nbformat": 4,
 "nbformat_minor": 4
}
